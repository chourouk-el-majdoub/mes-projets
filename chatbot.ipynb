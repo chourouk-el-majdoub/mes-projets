{
 "cells": [
  {
   "cell_type": "code",
   "execution_count": null,
   "metadata": {},
   "outputs": [],
   "source": [
    "\n",
    "import random\n",
    "\n",
    "liste1= [\"Comment allez vous?\",\n",
    "         \"Pourquoi venez vous me parler?\",\n",
    "         \"Comment s'est passée votre journée?\"]\n",
    "\n",
    "mot_clé= [\"père\",\"mère\",\"copain\",\"copine\",\"maman\",\"papa\",\"amie\",\"ami\"]\n",
    "\n",
    "reponse_liste1=[\"Comment va votre %s?\",\"La relation avec votre %s vous pose t-elle problème?\",\n",
    "                \"Pourquoi pensez-vous en ce moment a votre %s\" ]\n",
    "\n",
    "reponse_autre=[\"Pouquoi me posez vous cette question\",\"Oseriez vous poser cette question à un humain?\",\n",
    "               \"Je ne peux malheureusement pas répondre à votre question \"]\n",
    "\n",
    "reponse_fin=[\"J'entend bien\",\"Je sens une pointe de regret\",\"Est ce une bonne nouvelle?\",\"Oui, c'est ça le problème\",\n",
    "             \"Pensez vous ce que vous dites?\",\"Hum...il se peut\"]\n",
    "\n",
    "listeMotTriste= [\"mort\",\"accident\",\"morte\",\"bléssé\",\"pleure\",\"pleurer\",\n",
    "                 \"tristesse\",\"enterement\"]\n",
    "\n",
    "liste_exclamation=[\"vous avez l'air d'apprecier votre %s\",\"vous avez l'air de bonne humeur\"]\n",
    "\n",
    "d= random.randint(0,len(liste1)-1)\n",
    "\n",
    "reponse= input(liste1[d])\n",
    "while reponse != \"\":\n",
    "    for mot in mot_clé:\n",
    "        if reponse.find(mot)!=-1:\n",
    "            if reponse.find(\"!\")!=-1:\n",
    "                 d = random.randint(0,len(liste_exclamation)-1)\n",
    "                 reponse = input(liste_exclamation[d]%(mot))\n",
    "            else: \n",
    "                \n",
    "                d = random.randint(0,len(reponse_liste1)-1)\n",
    "                reponse = input(reponse_liste1[d]%(mot))\n",
    "    if reponse.find(\"?\")!=-1:\n",
    "        d = random.randint(0,len(reponse_autre)-1)\n",
    "        reponse = input(reponse_autre[d])\n",
    "    \n",
    "    else: \n",
    "        d = random.randint(0,len(reponse_fin)-1)\n",
    "        reponse = input(reponse_fin[d])\n",
    "        \n",
    "                "
   ]
  },
  {
   "cell_type": "code",
   "execution_count": null,
   "metadata": {},
   "outputs": [],
   "source": []
  }
 ],
 "metadata": {
  "kernelspec": {
   "display_name": "Python 3",
   "language": "python",
   "name": "python3"
  },
  "language_info": {
   "codemirror_mode": {
    "name": "ipython",
    "version": 3
   },
   "file_extension": ".py",
   "mimetype": "text/x-python",
   "name": "python",
   "nbconvert_exporter": "python",
   "pygments_lexer": "ipython3",
   "version": "3.7.6"
  }
 },
 "nbformat": 4,
 "nbformat_minor": 4
}
