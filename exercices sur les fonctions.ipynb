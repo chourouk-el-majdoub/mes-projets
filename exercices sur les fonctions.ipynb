{
 "cells": [
  {
   "cell_type": "code",
   "execution_count": 33,
   "metadata": {},
   "outputs": [
    {
     "name": "stdout",
     "output_type": "stream",
     "text": [
      "['Bonjour', 'Chourouk']\n"
     ]
    }
   ],
   "source": [
    "def hascaps(s):\n",
    "    liste = s.split()\n",
    "    liste2 = []\n",
    "    for mot in liste:\n",
    "        if ord(mot[0]) < 90 and ord(mot[0]) > 65:\n",
    "        \n",
    "          liste2.append(mot)\n",
    "    return liste2\n",
    "\n",
    "resultat = hascaps(\"Bonjour je m'appelle Chourouk\")\n",
    "print(resultat)\n",
    "   \n",
    "        \n",
    "        \n",
    "       \n",
    "        \n",
    "    \n",
    "    \n"
   ]
  },
  {
   "cell_type": "code",
   "execution_count": 1,
   "metadata": {},
   "outputs": [
    {
     "data": {
      "text/plain": [
       "'Le prix est de 40 euros'"
      ]
     },
     "execution_count": 1,
     "metadata": {},
     "output_type": "execute_result"
    }
   ],
   "source": [
    "\n",
    "def inflation(s):\n",
    "    s1 = s.split()\n",
    "    for indice, mot in enumerate(s1):\n",
    "        if mot.isnumeric():\n",
    "            s1[indice] = str(int(mot) * 2)\n",
    "    phrase = \" \".join(s1)\n",
    "    return phrase\n",
    "        \n",
    "        \n",
    "inflation(\"Le prix est de 20 euros\")"
   ]
  },
  {
   "cell_type": "code",
   "execution_count": 2,
   "metadata": {},
   "outputs": [
    {
     "name": "stdout",
     "output_type": "stream",
     "text": [
      "['Onze ans déjà que cela ', 'passe vite. Vous vous ', 'étiez servis ', 'simplement de vos ', 'armes la mort ', 'n‘éblouit pas les yeux ', 'des partisans. ']\n"
     ]
    }
   ],
   "source": [
    "phrase = \"Onze ans déjà que cela passe vite. Vous vous étiez servis simplement de vos armes la mort n‘éblouit pas les yeux des partisans.\"\n",
    "liste = phrase.split()\n",
    "lignes = []\n",
    "for mot in liste:\n",
    "    s = mot + ' '\n",
    "    if len(s) < 24:\n",
    "        if lignes != [] and len(lignes[-1]) + len(s) < 24:\n",
    "            lignes[-1] += s\n",
    "        else:\n",
    "            lignes.append(s)\n",
    "print(lignes)\n"
   ]
  },
  {
   "cell_type": "code",
   "execution_count": 4,
   "metadata": {},
   "outputs": [
    {
     "name": "stdout",
     "output_type": "stream",
     "text": [
      "['2', '-6.50']\n"
     ]
    }
   ],
   "source": [
    "text =\"Les 2 maquereaux valent -6.50 euros\"\n",
    "from re import findall\n",
    "motif=\"(?:-)?[1-9]+[?:.]?[0-9]*\"\n",
    "print (findall(motif, text))"
   ]
  },
  {
   "cell_type": "code",
   "execution_count": 5,
   "metadata": {},
   "outputs": [
    {
     "name": "stdout",
     "output_type": "stream",
     "text": [
      "L'evolution sur 3 jours est de 7 points\n"
     ]
    }
   ],
   "source": [
    "from re import *\n",
    "\n",
    "def arrondi(s):\n",
    "    m = r\"(-?)([0-9]+)[,.]?[0-9]*\"\n",
    "    return sub(m, r\"\\1\\2\", s)\n",
    "s = \"L'evolution sur 3,5 jours est de 7.23 points\"\n",
    "print(arrondi(s))"
   ]
  },
  {
   "cell_type": "code",
   "execution_count": null,
   "metadata": {},
   "outputs": [],
   "source": []
  }
 ],
 "metadata": {
  "kernelspec": {
   "display_name": "Python 3",
   "language": "python",
   "name": "python3"
  },
  "language_info": {
   "codemirror_mode": {
    "name": "ipython",
    "version": 3
   },
   "file_extension": ".py",
   "mimetype": "text/x-python",
   "name": "python",
   "nbconvert_exporter": "python",
   "pygments_lexer": "ipython3",
   "version": "3.7.6"
  }
 },
 "nbformat": 4,
 "nbformat_minor": 4
}
